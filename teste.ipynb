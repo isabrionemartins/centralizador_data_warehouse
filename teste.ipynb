{
 "cells": [
  {
   "cell_type": "code",
   "execution_count": 2,
   "metadata": {},
   "outputs": [
    {
     "name": "stdout",
     "output_type": "stream",
     "text": [
      "Requirement already satisfied: psycopg2-binary in c:\\users\\tklua\\anaconda3\\envs\\centralizador_data_warehouse\\lib\\site-packages (2.9.9)\n",
      "Requirement already satisfied: SQLAlchemy in c:\\users\\tklua\\anaconda3\\envs\\centralizador_data_warehouse\\lib\\site-packages (2.0.25)\n",
      "Requirement already satisfied: pymysql in c:\\users\\tklua\\anaconda3\\envs\\centralizador_data_warehouse\\lib\\site-packages (1.1.0)\n",
      "Requirement already satisfied: typing-extensions>=4.6.0 in c:\\users\\tklua\\anaconda3\\envs\\centralizador_data_warehouse\\lib\\site-packages (from SQLAlchemy) (4.9.0)\n",
      "Requirement already satisfied: greenlet!=0.4.17 in c:\\users\\tklua\\anaconda3\\envs\\centralizador_data_warehouse\\lib\\site-packages (from SQLAlchemy) (3.0.3)\n"
     ]
    }
   ],
   "source": [
    "!pip install psycopg2-binary SQLAlchemy pymysql"
   ]
  },
  {
   "cell_type": "code",
   "execution_count": 10,
   "metadata": {},
   "outputs": [],
   "source": [
    "from sqlalchemy import create_engine\n",
    "from sqlalchemy_utils import database_exists, create_database\n",
    "import psycopg2\n",
    "import pandas as pd \n",
    "import pymongo \n",
    "from json import loads\n",
    "\n",
    "host = \"mongodb://localhost/\"\n",
    "port = 27017\n",
    "conector = pymongo.MongoClient(host,port)\n",
    "database = conector[\"sistema_mongo\"]\n",
    "categorias = database[\"categorias\"]\n",
    "produtos = database[\"produtos\"]"
   ]
  },
  {
   "cell_type": "code",
   "execution_count": 4,
   "metadata": {},
   "outputs": [],
   "source": [
    "host_postgres = \"localhost\"\n",
    "user_postgres = \"postgres\"\n",
    "password_postgres = \"POSTGRES\"\n",
    "database_postgres = \"datawarehouse\"\n",
    "engine_postgres = create_engine(f\"postgresql://{user_postgres}:{password_postgres}@{host_postgres}/{database_postgres}\")\n",
    "\n",
    "if not database_exists(engine_postgres.url):\n",
    "    create_database(engine_postgres.url)"
   ]
  },
  {
   "cell_type": "code",
   "execution_count": 26,
   "metadata": {},
   "outputs": [],
   "source": [
    "def executar_query(tabela):\n",
    "    df = pd.DataFrame(list(tabela.find({})))\n",
    "    df.reset_index(inplace=True)\n",
    "    df = df.rename(columns = {'index':'id'})\n",
    "    df = df.drop(\"_id\", axis = 1)\n",
    "    df[\"id\"] = df[\"id\"].apply(lambda x: x+1)\n",
    "    return df\n",
    "\n",
    "def criando_tabela(nome_da_tabela, df):\n",
    "    with engine_postgres.connect() as conn:\n",
    "        df.to_sql(nome_da_tabela, conn, index=False, if_exists='replace')\n",
    "        "
   ]
  },
  {
   "cell_type": "code",
   "execution_count": 27,
   "metadata": {},
   "outputs": [],
   "source": [
    "criando_tabela(\"categorias\", executar_query(categorias))\n",
    "criando_tabela(\"produtos\", executar_query(produtos))"
   ]
  }
 ],
 "metadata": {
  "kernelspec": {
   "display_name": "centralizador_data_warehouse",
   "language": "python",
   "name": "python3"
  },
  "language_info": {
   "codemirror_mode": {
    "name": "ipython",
    "version": 3
   },
   "file_extension": ".py",
   "mimetype": "text/x-python",
   "name": "python",
   "nbconvert_exporter": "python",
   "pygments_lexer": "ipython3",
   "version": "3.10.13"
  }
 },
 "nbformat": 4,
 "nbformat_minor": 2
}
